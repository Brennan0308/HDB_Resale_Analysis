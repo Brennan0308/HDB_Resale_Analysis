{
 "cells": [
  {
   "cell_type": "markdown",
   "id": "c48b917e",
   "metadata": {},
   "source": [
    "# 🧹 Data Cleaning Notebook\n",
    "\n",
    "This notebook documents the **data collection and cleaning process** for the HDB Resale Flat Prices dataset.\n",
    "\n",
    "---"
   ]
  },
  {
   "cell_type": "markdown",
   "id": "2e71cb98",
   "metadata": {},
   "source": [
    "## 📌 Step 1: Import Libraries"
   ]
  },
  {
   "cell_type": "code",
   "execution_count": null,
   "id": "14f333fd",
   "metadata": {},
   "outputs": [],
   "source": [
    "import pandas as pd\n",
    "import numpy as np\n",
    "\n",
    "# Display options for better viewing\n",
    "pd.set_option('display.max_columns', None)\n",
    "pd.set_option('display.width', 1000)"
   ]
  },
  {
   "cell_type": "markdown",
   "id": "47b0881e",
   "metadata": {},
   "source": [
    "## 📌 Step 2: Load Raw Data\n",
    "Raw dataset is stored in `data/raw/`. We will start by loading the 2017 resale flat data."
   ]
  },
  {
   "cell_type": "code",
   "execution_count": null,
   "id": "a1a9a20e",
   "metadata": {},
   "outputs": [],
   "source": [
    "df = pd.read_csv('../data/raw/resale-flat-prices-2017.csv')\n",
    "\n",
    "# Preview dataset\n",
    "df.shape, df.head(), df.info()"
   ]
  },
  {
   "cell_type": "markdown",
   "id": "b1e51ebc",
   "metadata": {},
   "source": [
    "## 📌 Step 3: Standardize Column Names\n",
    "Ensure all column names are lowercase and snake_case."
   ]
  },
  {
   "cell_type": "code",
   "execution_count": null,
   "id": "80fb2d1a",
   "metadata": {},
   "outputs": [],
   "source": [
    "df.columns = df.columns.str.strip().str.lower().str.replace(' ', '_')\n",
    "df.head(2)"
   ]
  },
  {
   "cell_type": "markdown",
   "id": "754f30d2",
   "metadata": {},
   "source": [
    "## 📌 Step 4: Convert Data Types\n",
    "Convert `month` to datetime, check numerical columns."
   ]
  },
  {
   "cell_type": "code",
   "execution_count": null,
   "id": "edbca8a2",
   "metadata": {},
   "outputs": [],
   "source": [
    "df['month'] = pd.to_datetime(df['month'], format='%Y-%m')\n",
    "\n",
    "# Create year column\n",
    "df['year'] = df['month'].dt.year\n",
    "df[['month','year']].head()"
   ]
  },
  {
   "cell_type": "markdown",
   "id": "ce89c96b",
   "metadata": {},
   "source": [
    "## 📌 Step 5: Handle Missing Values\n",
    "Check for nulls and decide on a cleaning strategy."
   ]
  },
  {
   "cell_type": "code",
   "execution_count": null,
   "id": "41e01d63",
   "metadata": {},
   "outputs": [],
   "source": [
    "print(df.isnull().sum())\n",
    "\n",
    "# Example strategy: drop missing rows\n",
    "df = df.dropna()"
   ]
  },
  {
   "cell_type": "markdown",
   "id": "a9bac45b",
   "metadata": {},
   "source": [
    "## 📌 Step 6: Save Cleaned Data\n",
    "Export cleaned dataset into `data/cleaned/` folder."
   ]
  },
  {
   "cell_type": "code",
   "execution_count": null,
   "id": "28a15a04",
   "metadata": {},
   "outputs": [],
   "source": [
    "df.to_csv('../data/cleaned/hdb_resale_cleaned.csv', index=False)\n",
    "print('✅ Cleaned dataset saved!')"
   ]
  },
  {
   "cell_type": "markdown",
   "id": "334c7d15",
   "metadata": {},
   "source": [
    "---\n",
    "\n",
    "## 📝 Notes & Observations\n",
    "- List any data quality issues found\n",
    "- Describe your cleaning decisions\n",
    "- Document transformations (e.g., new columns created)"
   ]
  }
 ],
 "metadata": {},
 "nbformat": 4,
 "nbformat_minor": 5
}
